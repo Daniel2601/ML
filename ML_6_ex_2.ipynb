{
  "nbformat": 4,
  "nbformat_minor": 0,
  "metadata": {
    "colab": {
      "name": "ML_6_ex_2.ipynb",
      "version": "0.3.2",
      "provenance": [],
      "include_colab_link": true
    },
    "kernelspec": {
      "name": "python3",
      "display_name": "Python 3"
    }
  },
  "cells": [
    {
      "cell_type": "markdown",
      "metadata": {
        "id": "view-in-github",
        "colab_type": "text"
      },
      "source": [
        "<a href=\"https://colab.research.google.com/github/Daniel2601/ML/blob/master/ML_6_ex_2.ipynb\" target=\"_parent\"><img src=\"https://colab.research.google.com/assets/colab-badge.svg\" alt=\"Open In Colab\"/></a>"
      ]
    },
    {
      "metadata": {
        "id": "VmNpfWZjfHEw",
        "colab_type": "text"
      },
      "cell_type": "markdown",
      "source": [
        "![alt text](https://daniel2601.github.io/myParticules/ex01_Forces/Image_reseau.png)"
      ]
    },
    {
      "metadata": {
        "id": "RnSdcdO8cQVa",
        "colab_type": "code",
        "colab": {}
      },
      "cell_type": "code",
      "source": [
        "import numpy as np\n",
        "\n",
        "\n",
        "input_data = np.array([3, 5])\n",
        "\n",
        "weights = {\"node_0\": np.array([2,4]),\n",
        "            \"node_1\": np.array([4,-5]),\n",
        "            \"output\": np.array([2,7])}"
      ],
      "execution_count": 0,
      "outputs": []
    },
    {
      "metadata": {
        "id": "-GfP8sryc2-l",
        "colab_type": "text"
      },
      "cell_type": "markdown",
      "source": [
        "Modifiez le code suivant pour calculer la somme pondérée :"
      ]
    },
    {
      "metadata": {
        "id": "Lev9HW1Fc-Is",
        "colab_type": "code",
        "colab": {}
      },
      "cell_type": "code",
      "source": [
        "node_0_value = (input_data * weights[\"node_0\"]).sum()"
      ],
      "execution_count": 0,
      "outputs": []
    },
    {
      "metadata": {
        "id": "h-v75p-0dJ-S",
        "colab_type": "text"
      },
      "cell_type": "markdown",
      "source": [
        "Affichez la valeur de node_0_value : "
      ]
    },
    {
      "metadata": {
        "id": "3KwcYYbCdQNs",
        "colab_type": "code",
        "colab": {
          "base_uri": "https://localhost:8080/",
          "height": 34
        },
        "outputId": "1e788981-27f7-4274-d437-32287c99089f"
      },
      "cell_type": "code",
      "source": [
        "print(node_0_value)"
      ],
      "execution_count": 5,
      "outputs": [
        {
          "output_type": "stream",
          "text": [
            "8\n"
          ],
          "name": "stdout"
        }
      ]
    },
    {
      "metadata": {
        "id": "4R-MfUlTdxZu",
        "colab_type": "text"
      },
      "cell_type": "markdown",
      "source": [
        "Calculez la somme pondérée du deuxiième neurone :"
      ]
    },
    {
      "metadata": {
        "id": "WB1gs-aBdkPs",
        "colab_type": "code",
        "colab": {}
      },
      "cell_type": "code",
      "source": [
        "node_1_value = (__ * __]).__()"
      ],
      "execution_count": 0,
      "outputs": []
    },
    {
      "metadata": {
        "id": "JQiC1nPWeG16",
        "colab_type": "text"
      },
      "cell_type": "markdown",
      "source": [
        "Construction de la sortie des deux neurones"
      ]
    },
    {
      "metadata": {
        "id": "r8OpyOCeea1x",
        "colab_type": "code",
        "colab": {}
      },
      "cell_type": "code",
      "source": [
        "hidden_layer_outputs = np.array([node_0_value, node_1_value])"
      ],
      "execution_count": 0,
      "outputs": []
    },
    {
      "metadata": {
        "id": "GndaHd0KedzF",
        "colab_type": "text"
      },
      "cell_type": "markdown",
      "source": [
        "Affichez ce résultat : "
      ]
    },
    {
      "metadata": {
        "id": "dL-cMpzgeiHr",
        "colab_type": "code",
        "colab": {
          "base_uri": "https://localhost:8080/",
          "height": 52
        },
        "outputId": "82b3c740-c9d0-491e-d8f6-6802dab8ed8c"
      },
      "cell_type": "code",
      "source": [
        "print(hidden_layer_outputs)"
      ],
      "execution_count": 10,
      "outputs": [
        {
          "output_type": "stream",
          "text": [
            "[8 2]\n",
            "2\n"
          ],
          "name": "stdout"
        }
      ]
    }
  ]
}