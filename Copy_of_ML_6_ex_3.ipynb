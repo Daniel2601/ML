{
  "nbformat": 4,
  "nbformat_minor": 0,
  "metadata": {
    "colab": {
      "name": "Copy of ML_6_ex_3.ipynb",
      "version": "0.3.2",
      "provenance": [],
      "include_colab_link": true
    },
    "kernelspec": {
      "name": "python2",
      "display_name": "Python 2"
    }
  },
  "cells": [
    {
      "cell_type": "markdown",
      "metadata": {
        "id": "view-in-github",
        "colab_type": "text"
      },
      "source": [
        "<a href=\"https://colab.research.google.com/github/Daniel2601/ML/blob/master/Copy_of_ML_6_ex_3.ipynb\" target=\"_parent\"><img src=\"https://colab.research.google.com/assets/colab-badge.svg\" alt=\"Open In Colab\"/></a>"
      ]
    },
    {
      "metadata": {
        "id": "pFA5lTa5BjfV",
        "colab_type": "code",
        "outputId": "03527d76-2b7b-4b0a-b34e-b0b3a1aad970",
        "colab": {
          "base_uri": "https://localhost:8080/",
          "height": 121
        }
      },
      "cell_type": "code",
      "source": [
        "import numpy as np\n",
        "import matplotlib.pyplot as plt\n",
        "from sklearn.datasets import load_iris\n",
        "from sklearn.linear_model import Perceptron\n",
        "\n",
        "# Importation\n",
        "iris = load_iris()\n",
        "# Création de la base d'apprentissage\n",
        "X = iris.data\n",
        "y = iris.target\n",
        "\n",
        "# Affichage de la dimension de la base et des catégories des données d'apprentissage\n",
        "print X.shape\n",
        "print y\n",
        "Z = iris.target_names\n",
        "\n"
      ],
      "execution_count": 0,
      "outputs": [
        {
          "output_type": "stream",
          "text": [
            "(150, 4)\n",
            "[0 0 0 0 0 0 0 0 0 0 0 0 0 0 0 0 0 0 0 0 0 0 0 0 0 0 0 0 0 0 0 0 0 0 0 0 0\n",
            " 0 0 0 0 0 0 0 0 0 0 0 0 0 1 1 1 1 1 1 1 1 1 1 1 1 1 1 1 1 1 1 1 1 1 1 1 1\n",
            " 1 1 1 1 1 1 1 1 1 1 1 1 1 1 1 1 1 1 1 1 1 1 1 1 1 1 2 2 2 2 2 2 2 2 2 2 2\n",
            " 2 2 2 2 2 2 2 2 2 2 2 2 2 2 2 2 2 2 2 2 2 2 2 2 2 2 2 2 2 2 2 2 2 2 2 2 2\n",
            " 2 2]\n"
          ],
          "name": "stdout"
        }
      ]
    },
    {
      "metadata": {
        "id": "rwXUcMLLCJ6F",
        "colab_type": "code",
        "colab": {}
      },
      "cell_type": "code",
      "source": [
        "# Creation du modèle d'apprentissage: un Perceptron \"classifier linéaire\"\n",
        "classifier = Perceptron(verbose = 3)\n",
        "# Apprentissage du modèle\n",
        "classifier.fit(X, y)"
      ],
      "execution_count": 0,
      "outputs": []
    },
    {
      "metadata": {
        "id": "YSeOXIOWCxdx",
        "colab_type": "code",
        "outputId": "ad6bd616-1901-464f-b5ca-6c05be5b0e7e",
        "colab": {
          "base_uri": "https://localhost:8080/",
          "height": 69
        }
      },
      "cell_type": "code",
      "source": [
        "# Affichage des coefficients du modèle\n",
        "classifier.coef_"
      ],
      "execution_count": 0,
      "outputs": [
        {
          "output_type": "execute_result",
          "data": {
            "text/plain": [
              "array([[  1. ,   4.3,  -6.4,  -3. ],\n",
              "       [  5.4, -28.5,   6.8, -14.9],\n",
              "       [-19.4, -15.5,  32.4,  30.4]])"
            ]
          },
          "metadata": {
            "tags": []
          },
          "execution_count": 15
        }
      ]
    },
    {
      "metadata": {
        "id": "ac8G7Wl7COVk",
        "colab_type": "code",
        "outputId": "097b25c7-cadf-4fa7-e39a-7e425e9b2467",
        "colab": {
          "base_uri": "https://localhost:8080/",
          "height": 52
        }
      },
      "cell_type": "code",
      "source": [
        "# Donnée test\n",
        "test_sample = [[2.5, 3.6, 1.9, 0.3]]\n",
        "test_sample = np.asarray(test_sample)\n",
        "print test_sample \n",
        "print \"Dimensions:\", test_sample.shape\n"
      ],
      "execution_count": 0,
      "outputs": [
        {
          "output_type": "stream",
          "text": [
            "[[2.5 3.6 1.9 0.3]]\n",
            "is a  (1, 4)\n"
          ],
          "name": "stdout"
        }
      ]
    },
    {
      "metadata": {
        "id": "hvLIhILlC7pN",
        "colab_type": "code",
        "outputId": "9103735e-b9b7-427c-9277-d95dca308c2b",
        "colab": {
          "base_uri": "https://localhost:8080/",
          "height": 52
        }
      },
      "cell_type": "code",
      "source": [
        "# Affichage de la prédiction dur test\n",
        "print(classifier.predict(test_sample))\n",
        "print iris.target_names[classifier.predict(test_sample)]\n",
        "\n"
      ],
      "execution_count": 0,
      "outputs": [
        {
          "output_type": "stream",
          "text": [
            "[0]\n",
            "['setosa']\n"
          ],
          "name": "stdout"
        }
      ]
    },
    {
      "metadata": {
        "id": "Y-jKCe91C9hm",
        "colab_type": "code",
        "outputId": "703aac6d-4775-4f75-8aed-20670e4d9841",
        "colab": {
          "base_uri": "https://localhost:8080/",
          "height": 376
        }
      },
      "cell_type": "code",
      "source": [
        "# Affichage sur un graphique la classification\n",
        "plt.title('Classification of the IRIS dataset')\n",
        "formatter = plt.FuncFormatter(lambda i, *args: Z[int(i)])\n",
        "plt.scatter(X[:, 2], X[:, 3], c=y, cmap=plt.cm.get_cmap('RdYlBu', 3))\n",
        "plt.colorbar(ticks=[0, 1, 2], format=formatter)\n",
        "plt.clim(-0.5, 2.5)\n",
        "plt.xlabel(\"Sepal length (cm)\")\n",
        "plt.ylabel(\"Sepal width (cm)\");\n"
      ],
      "execution_count": 0,
      "outputs": [
        {
          "output_type": "display_data",
          "data": {
            "image/png": "[encoded data removed]",
            "text/plain": [
              "<Figure size 576x396 with 2 Axes>"
            ]
          },
          "metadata": {
            "tags": []
          }
        }
      ]
    }
  ]
}