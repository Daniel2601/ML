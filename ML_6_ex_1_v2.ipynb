{
  "nbformat": 4,
  "nbformat_minor": 0,
  "metadata": {
    "colab": {
      "name": "ML_6_ex_1.ipynb",
      "version": "0.3.2",
      "provenance": [],
      "collapsed_sections": [],
      "include_colab_link": true
    },
    "kernelspec": {
      "name": "python3",
      "display_name": "Python 3"
    }
  },
  "cells": [
    {
      "cell_type": "markdown",
      "metadata": {
        "id": "view-in-github",
        "colab_type": "text"
      },
      "source": [
        "<a href=\"https://colab.research.google.com/github/Daniel2601/ML/blob/master/ML_6_ex_1_v2.ipynb\" target=\"_parent\"><img src=\"https://colab.research.google.com/assets/colab-badge.svg\" alt=\"Open In Colab\"/></a>"
      ]
    },
    {
      "metadata": {
        "id": "VmNpfWZjfHEw",
        "colab_type": "text"
      },
      "cell_type": "markdown",
      "source": [
        "![alt text](https://daniel2601.github.io/ML/Images/ML_6_ex1.png)"
      ]
    },
    {
      "metadata": {
        "id": "RnSdcdO8cQVa",
        "colab_type": "code",
        "colab": {}
      },
      "cell_type": "code",
      "source": [
        "import numpy as np\n",
        "\n",
        "\n",
        "entree = np.array([2, 4])\n",
        "\n",
        "weights = {\"neurone\": np.array([1,0.5])}"
      ],
      "execution_count": 0,
      "outputs": []
    },
    {
      "metadata": {
        "id": "-GfP8sryc2-l",
        "colab_type": "text"
      },
      "cell_type": "markdown",
      "source": [
        "Modifiez le code suivant pour calculer la somme pondérée du premier neurone :"
      ]
    },
    {
      "metadata": {
        "id": "Lev9HW1Fc-Is",
        "colab_type": "code",
        "colab": {}
      },
      "cell_type": "code",
      "source": [
        "neurone_valeur = (__ * weights[\"neurone\"]).sum()"
      ],
      "execution_count": 0,
      "outputs": []
    },
    {
      "metadata": {
        "id": "h-v75p-0dJ-S",
        "colab_type": "text"
      },
      "cell_type": "markdown",
      "source": [
        "Affichez la valeur du neurone : "
      ]
    },
    {
      "metadata": {
        "id": "3KwcYYbCdQNs",
        "colab_type": "code",
        "outputId": "3094a8e7-2745-40f5-f79e-a3aa8f2ed1da",
        "colab": {
          "base_uri": "https://localhost:8080/",
          "height": 34
        }
      },
      "cell_type": "code",
      "source": [
        "print(neurone_valeur)"
      ],
      "execution_count": 12,
      "outputs": [
        {
          "output_type": "stream",
          "text": [
            "4.0\n"
          ],
          "name": "stdout"
        }
      ]
    },
    {
      "metadata": {
        "id": "4R-MfUlTdxZu",
        "colab_type": "text"
      },
      "cell_type": "markdown",
      "source": [
        "Calculez la sortie du neurone avec une condition sur le seuil teta"
      ]
    },
    {
      "metadata": {
        "id": "RAi8xu4rZC-2",
        "colab_type": "code",
        "colab": {
          "base_uri": "https://localhost:8080/",
          "height": 34
        },
        "outputId": "b37b6e19-82d7-468a-d48d-4f1399376128"
      },
      "cell_type": "code",
      "source": [
        "teta = __\n",
        "if __ > __:\n",
        "  sortie = 1\n",
        "else:\n",
        "  sortie = 0\n",
        "  \n",
        "print(sortie)"
      ],
      "execution_count": 16,
      "outputs": [
        {
          "output_type": "stream",
          "text": [
            "0\n"
          ],
          "name": "stdout"
        }
      ]
    },
    {
      "metadata": {
        "id": "FHrwmo1TaJOO",
        "colab_type": "text"
      },
      "cell_type": "markdown",
      "source": [
        "Changez la valeur du seuil"
      ]
    }
  ]
}