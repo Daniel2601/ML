{
  "nbformat": 4,
  "nbformat_minor": 0,
  "metadata": {
    "colab": {
      "name": "ML_6_ex_2_v2.ipynb",
      "version": "0.3.2",
      "provenance": [],
      "collapsed_sections": [],
      "include_colab_link": true
    },
    "kernelspec": {
      "name": "python3",
      "display_name": "Python 3"
    }
  },
  "cells": [
    {
      "cell_type": "markdown",
      "metadata": {
        "id": "view-in-github",
        "colab_type": "text"
      },
      "source": [
        "<a href=\"https://colab.research.google.com/github/Daniel2601/ML/blob/master/ML_6_ex_2_v2.ipynb\" target=\"_parent\"><img src=\"https://colab.research.google.com/assets/colab-badge.svg\" alt=\"Open In Colab\"/></a>"
      ]
    },
    {
      "metadata": {
        "id": "VmNpfWZjfHEw",
        "colab_type": "text"
      },
      "cell_type": "markdown",
      "source": [
        "![alt text](https://daniel2601.github.io/myParticules/ex01_Forces/Image_reseau.png)"
      ]
    },
    {
      "metadata": {
        "id": "RnSdcdO8cQVa",
        "colab_type": "code",
        "colab": {}
      },
      "cell_type": "code",
      "source": [
        "import numpy as np\n",
        "\n",
        "\n",
        "entree = np.array([3, 5])\n",
        "\n",
        "weights = {\"neurone_1\": np.array([2,4]),\n",
        "            \"neurone_2\": np.array([4,-5]),\n",
        "            \"sortie\": np.array([2,7])}"
      ],
      "execution_count": 0,
      "outputs": []
    },
    {
      "metadata": {
        "id": "-GfP8sryc2-l",
        "colab_type": "text"
      },
      "cell_type": "markdown",
      "source": [
        "Modifiez le code suivant pour calculer la somme pondérée du premier neurone :"
      ]
    },
    {
      "metadata": {
        "id": "Lev9HW1Fc-Is",
        "colab_type": "code",
        "colab": {}
      },
      "cell_type": "code",
      "source": [
        "neurone_1_valeur = (entree * weights[\"neurone_1\"]).sum()"
      ],
      "execution_count": 0,
      "outputs": []
    },
    {
      "metadata": {
        "id": "h-v75p-0dJ-S",
        "colab_type": "text"
      },
      "cell_type": "markdown",
      "source": [
        "Affichez la valeur de node_0_value : "
      ]
    },
    {
      "metadata": {
        "id": "3KwcYYbCdQNs",
        "colab_type": "code",
        "outputId": "0ec3d6c4-cf73-43de-e825-fa937e22cead",
        "colab": {
          "base_uri": "https://localhost:8080/",
          "height": 34
        }
      },
      "cell_type": "code",
      "source": [
        "print(neurone_1_valeur)"
      ],
      "execution_count": 0,
      "outputs": [
        {
          "output_type": "stream",
          "text": [
            "26\n"
          ],
          "name": "stdout"
        }
      ]
    },
    {
      "metadata": {
        "id": "4R-MfUlTdxZu",
        "colab_type": "text"
      },
      "cell_type": "markdown",
      "source": [
        "Calculez la somme pondérée du deuxiième neurone :"
      ]
    },
    {
      "metadata": {
        "id": "WB1gs-aBdkPs",
        "colab_type": "code",
        "colab": {}
      },
      "cell_type": "code",
      "source": [
        "neurone_2_valeur = (__ * __).__"
      ],
      "execution_count": 0,
      "outputs": []
    },
    {
      "metadata": {
        "id": "JQiC1nPWeG16",
        "colab_type": "text"
      },
      "cell_type": "markdown",
      "source": [
        "Construction de la sortie des deux neurones"
      ]
    },
    {
      "metadata": {
        "id": "r8OpyOCeea1x",
        "colab_type": "code",
        "colab": {}
      },
      "cell_type": "code",
      "source": [
        "sortie = np.array([neurone_1_valeur, neurone_2_valeur])"
      ],
      "execution_count": 0,
      "outputs": []
    },
    {
      "metadata": {
        "id": "GndaHd0KedzF",
        "colab_type": "text"
      },
      "cell_type": "markdown",
      "source": [
        "Affichez ce résultat : "
      ]
    },
    {
      "metadata": {
        "id": "dL-cMpzgeiHr",
        "colab_type": "code",
        "outputId": "7716a368-6426-4480-b7bb-f7095d225c43",
        "colab": {
          "base_uri": "https://localhost:8080/",
          "height": 34
        }
      },
      "cell_type": "code",
      "source": [
        "print(__)"
      ],
      "execution_count": 0,
      "outputs": [
        {
          "output_type": "stream",
          "text": [
            "13\n"
          ],
          "name": "stdout"
        }
      ]
    }
  ]
}