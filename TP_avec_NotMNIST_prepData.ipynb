{
 "cells": [
  {
   "cell_type": "code",
   "execution_count": 1,
   "metadata": {},
   "outputs": [
    {
     "name": "stdout",
     "output_type": "stream",
     "text": [
      "modules chargés\n"
     ]
    }
   ],
   "source": [
    "# Voici l'ensemble de modules Python dont nous allons avoir besoin \n",
    "# Vérifions l'installation avant et également a priori on fait du Python 3\n",
    "from __future__ import print_function\n",
    "import matplotlib.pyplot as plt\n",
    "import numpy as np\n",
    "import os\n",
    "import sys\n",
    "import tarfile\n",
    "from IPython.display import display, Image\n",
    "from scipy import ndimage\n",
    "from sklearn.linear_model import LogisticRegression\n",
    "from six.moves.urllib.request import urlretrieve\n",
    "from six.moves import cPickle as pickle\n",
    "print('modules chargés')"
   ]
  },
  {
   "cell_type": "markdown",
   "metadata": {},
   "source": [
    "D'abord, nous allons télécharger l'ensemble des données sur notre machine locale. Les données se composent de caractères générés dans une variété de polices de caractères sur une image 28x28 (comme MNISTà. \n",
    "Les étiquettes sont limitées aux classes'A' à'J' (10 classes). \n",
    "Le jeu de données d'entraînement a environ 500k et le jeu de tests 19.000 exemples étiquetés. Compte tenu de ces dimensions, il devrait être possible de former rapidement les modèles sur n'importe quelle machine.\n"
   ]
  },
  {
   "cell_type": "code",
   "execution_count": 2,
   "metadata": {},
   "outputs": [
    {
     "name": "stdout",
     "output_type": "stream",
     "text": [
      "Trouvé et vérifié  notMNIST_large.tar.gz\n",
      "Trouvé et vérifié  notMNIST_small.tar.gz\n"
     ]
    }
   ],
   "source": [
    "# On définit une fonction qui télécharge si les données ne sont pas présentes\n",
    "url = 'http://yaroslavvb.com/upload/notMNIST/'\n",
    "\n",
    "def maybe_download(filename, expected_bytes, force=False):\n",
    "  \"\"\" Télécharge un fichier s'il n'est pas présent et vérification de la taille \"\"\"\n",
    "  if force or not os.path.exists(filename):\n",
    "    filename, _ = urlretrieve(url + filename, filename)\n",
    "  statinfo = os.stat(filename)\n",
    "  if statinfo.st_size == expected_bytes:\n",
    "    print('Trouvé et vérifié ', filename)\n",
    "  else:\n",
    "    raise Exception(\n",
    "      'N\\'a pu être vérifié' + filename + '. Obtenez-le à l\\'aide d\\'un navigateur !')\n",
    "  return filename\n",
    "train_filename = maybe_download('notMNIST_large.tar.gz', 247336696)\n",
    "test_filename = maybe_download('notMNIST_small.tar.gz', 8458043)"
   ]
  },
  {
   "cell_type": "markdown",
   "metadata": {},
   "source": [
    "Extraire l'ensemble de données du fichier.tar.gz compressé. Cela devrait vous donner un ensemble de répertoires, étiquetés de A à J."
   ]
  },
  {
   "cell_type": "code",
   "execution_count": 3,
   "metadata": {},
   "outputs": [
    {
     "name": "stdout",
     "output_type": "stream",
     "text": [
      "notMNIST_large déjà présent - on \"skip\" l'extraction de notMNIST_large.tar.gz.\n",
      "['notMNIST_large/A', 'notMNIST_large/B', 'notMNIST_large/C', 'notMNIST_large/D', 'notMNIST_large/E', 'notMNIST_large/F', 'notMNIST_large/G', 'notMNIST_large/H', 'notMNIST_large/I', 'notMNIST_large/J']\n",
      "notMNIST_small déjà présent - on \"skip\" l'extraction de notMNIST_small.tar.gz.\n",
      "['notMNIST_small/A', 'notMNIST_small/B', 'notMNIST_small/C', 'notMNIST_small/D', 'notMNIST_small/E', 'notMNIST_small/F', 'notMNIST_small/G', 'notMNIST_small/H', 'notMNIST_small/I', 'notMNIST_small/J']\n"
     ]
    }
   ],
   "source": [
    "\n",
    "num_classes = 10\n",
    "np.random.seed(133)\n",
    "\n",
    "def maybe_extract(filename, force=False):\n",
    "  root = os.path.splitext(os.path.splitext(filename)[0])[0]  # remove .tar.gz\n",
    "  if os.path.isdir(root) and not force:\n",
    "    # You may override by setting force=True.\n",
    "    print('%s déjà présent - on \"skip\" l\\'extraction de %s.' % (root, filename))\n",
    "  else:\n",
    "    print('Extractiion des data pour %s. Cela peut prendre du temps. Patientez svp.' % root)\n",
    "    tar = tarfile.open(filename)\n",
    "    sys.stdout.flush()\n",
    "    tar.extractall()\n",
    "    tar.close()\n",
    "  data_folders = [\n",
    "    os.path.join(root, d) for d in sorted(os.listdir(root))\n",
    "    if os.path.isdir(os.path.join(root, d))]\n",
    "  if len(data_folders) != num_classes:\n",
    "    raise Exception(\n",
    "      'Expected %d folders, one per class. Found %d instead.' % (\n",
    "        num_classes, len(data_folders)))\n",
    "  print(data_folders)\n",
    "  return data_folders\n",
    "\n",
    "# on crée deux dossiers à partir des deux jeux de données que l'on a rapatriés\n",
    "train_folders = maybe_extract(train_filename)\n",
    "test_folders = maybe_extract(test_filename)\n",
    "\n"
   ]
  },
  {
   "cell_type": "markdown",
   "metadata": {},
   "source": [
    "## 1. Première tâche : acquérir et préparer des données"
   ]
  },
  {
   "cell_type": "markdown",
   "metadata": {},
   "source": [
    "Examinons à certaines données pour nous assurer qu'elles semblent correctes. \n",
    "Chaque exemplaire doit être une image d'une instance de A à J générée dans une police de caractères différente. Afficher un échantillon des images que nous venons de télécharger. Astuce : vous pouvez utiliser le paquet IPython.display.\n"
   ]
  },
  {
   "cell_type": "code",
   "execution_count": 4,
   "metadata": {
    "collapsed": true
   },
   "outputs": [],
   "source": [
    "#Auparavant une importation de quelques librairies\n",
    "import random\n",
    "import hashlib\n",
    "%matplotlib inline\n"
   ]
  },
  {
   "cell_type": "code",
   "execution_count": 5,
   "metadata": {
    "collapsed": true
   },
   "outputs": [],
   "source": [
    "\n",
    "# affichage de quelques données\n",
    "def disp_samples(data_folders, sample_size):\n",
    "  for folder in data_folders:\n",
    "    print(folder)\n",
    "    image_files = os.listdir(folder)\n",
    "    image_sample = random.sample(image_files, sample_size)\n",
    "    for image in image_sample:\n",
    "      image_file = os.path.join(folder, image)\n",
    "      i = Image(filename=image_file)\n",
    "      display(i)\n",
    "\n"
   ]
  },
  {
   "cell_type": "code",
   "execution_count": 6,
   "metadata": {},
   "outputs": [
    {
     "name": "stdout",
     "output_type": "stream",
     "text": [
      "notMNIST_large/A\n"
     ]
    },
    {
     "data": {
      "image/png": "[encoded data removed]",
      "text/plain": [
       "<IPython.core.display.Image object>"
      ]
     },
     "metadata": {},
     "output_type": "display_data"
    },
    {
     "name": "stdout",
     "output_type": "stream",
     "text": [
      "notMNIST_large/B\n"
     ]
    },
    {
     "data": {
      "image/png": "[encoded data removed]",
      "text/plain": [
       "<IPython.core.display.Image object>"
      ]
     },
     "metadata": {},
     "output_type": "display_data"
    },
    {
     "name": "stdout",
     "output_type": "stream",
     "text": [
      "notMNIST_large/C\n"
     ]
    },
    {
     "data": {
      "image/png": "[encoded data removed]",
      "text/plain": [
       "<IPython.core.display.Image object>"
      ]
     },
     "metadata": {},
     "output_type": "display_data"
    },
    {
     "name": "stdout",
     "output_type": "stream",
     "text": [
      "notMNIST_large/D\n"
     ]
    },
    {
     "data": {
      "image/png": "[encoded data removed]",
      "text/plain": [
       "<IPython.core.display.Image object>"
      ]
     },
     "metadata": {},
     "output_type": "display_data"
    },
    {
     "name": "stdout",
     "output_type": "stream",
     "text": [
      "notMNIST_large/E\n"
     ]
    },
    {
     "data": {
      "image/png": "[encoded data removed]",
      "text/plain": [
       "<IPython.core.display.Image object>"
      ]
     },
     "metadata": {},
     "output_type": "display_data"
    },
    {
     "name": "stdout",
     "output_type": "stream",
     "text": [
      "notMNIST_large/F\n"
     ]
    },
    {
     "data": {
      "image/png": "[encoded data removed]",
      "text/plain": [
       "<IPython.core.display.Image object>"
      ]
     },
     "metadata": {},
     "output_type": "display_data"
    },
    {
     "name": "stdout",
     "output_type": "stream",
     "text": [
      "notMNIST_large/G\n"
     ]
    },
    {
     "data": {
      "image/png": "[encoded data removed]",
      "text/plain": [
       "<IPython.core.display.Image object>"
      ]
     },
     "metadata": {},
     "output_type": "display_data"
    },
    {
     "name": "stdout",
     "output_type": "stream",
     "text": [
      "notMNIST_large/H\n"
     ]
    },
    {
     "data": {
      "image/png": "[encoded data removed]",
      "text/plain": [
       "<IPython.core.display.Image object>"
      ]
     },
     "metadata": {},
     "output_type": "display_data"
    },
    {
     "name": "stdout",
     "output_type": "stream",
     "text": [
      "notMNIST_large/I\n"
     ]
    },
    {
     "data": {
      "image/png": "[encoded data removed]",
      "text/plain": [
       "<IPython.core.display.Image object>"
      ]
     },
     "metadata": {},
     "output_type": "display_data"
    },
    {
     "name": "stdout",
     "output_type": "stream",
     "text": [
      "notMNIST_large/J\n"
     ]
    },
    {
     "data": {
      "image/png": "[encoded data removed]",
      "text/plain": [
       "<IPython.core.display.Image object>"
      ]
     },
     "metadata": {},
     "output_type": "display_data"
    }
   ],
   "source": [
    "disp_samples(train_folders, 1)"
   ]
  },
  {
   "cell_type": "markdown",
   "metadata": {},
   "source": [
    "### Creation de donnees sous un format pickle"
   ]
  },
  {
   "cell_type": "markdown",
   "metadata": {},
   "source": [
    "\n",
    "Maintenant, il s'agit de charger les données dans un format plus facile à gérer. \n",
    "Puisque, selon la configuration de votre ordinateur, il se peut que vous ne puissiez pas tout mettre en mémoire, nous chargerons chaque classe dans un jeu de données séparé, les stockerons sur disque et les conserverons indépendamment. Plus tard, nous les fusionnerons en un seul ensemble de données de taille gérable.\n",
    "\n",
    "Nous convertirons l'ensemble des données vers un tableau 3D (indice d'image, x, y) à valeurs réelles, normalisées pour avoir une moyenne d'environ zéro et un écart type ~0,5 pour faciliter l'entraînement en cours de route.\n",
    "\n",
    "Quelques images ne sont peut-être pas lisibles, on va juste les enlever.\n"
   ]
  },
  {
   "cell_type": "code",
   "execution_count": 7,
   "metadata": {},
   "outputs": [
    {
     "name": "stdout",
     "output_type": "stream",
     "text": [
      "notMNIST_large/A.pickle deja present - on passe le pickling.\n",
      "notMNIST_large/B.pickle deja present - on passe le pickling.\n",
      "notMNIST_large/C.pickle deja present - on passe le pickling.\n",
      "notMNIST_large/D.pickle deja present - on passe le pickling.\n",
      "notMNIST_large/E.pickle deja present - on passe le pickling.\n",
      "notMNIST_large/F.pickle deja present - on passe le pickling.\n",
      "notMNIST_large/G.pickle deja present - on passe le pickling.\n",
      "notMNIST_large/H.pickle deja present - on passe le pickling.\n",
      "notMNIST_large/I.pickle deja present - on passe le pickling.\n",
      "notMNIST_large/J.pickle deja present - on passe le pickling.\n",
      "notMNIST_small/A.pickle deja present - on passe le pickling.\n",
      "notMNIST_small/B.pickle deja present - on passe le pickling.\n",
      "notMNIST_small/C.pickle deja present - on passe le pickling.\n",
      "notMNIST_small/D.pickle deja present - on passe le pickling.\n",
      "notMNIST_small/E.pickle deja present - on passe le pickling.\n",
      "notMNIST_small/F.pickle deja present - on passe le pickling.\n",
      "notMNIST_small/G.pickle deja present - on passe le pickling.\n",
      "notMNIST_small/H.pickle deja present - on passe le pickling.\n",
      "notMNIST_small/I.pickle deja present - on passe le pickling.\n",
      "notMNIST_small/J.pickle deja present - on passe le pickling.\n"
     ]
    }
   ],
   "source": [
    "image_size = 28  # Pixel width and height.\n",
    "pixel_depth = 255.0  # Number of levels per pixel.\n",
    "\n",
    "def load_letter(folder, min_num_images):\n",
    "  \"\"\" Chargement des data pour une etiquette d'une seule lettre.\"\"\"\n",
    "  image_files = os.listdir(folder)\n",
    "  dataset = np.ndarray(shape=(len(image_files), image_size, image_size), dtype=np.float32)\n",
    "  image_index = 0\n",
    "  print(folder)\n",
    "  for image in os.listdir(folder):\n",
    "    image_file = os.path.join(folder, image)\n",
    "    try:\n",
    "      image_data = (ndimage.imread(image_file).astype(float) - \n",
    "                    pixel_depth / 2) / pixel_depth\n",
    "      if image_data.shape != (image_size, image_size):\n",
    "        raise Exception('Unexpected image shape: %s' % str(image_data.shape))\n",
    "      dataset[image_index, :, :] = image_data\n",
    "      image_index += 1\n",
    "    except IOError as e:\n",
    "      print('Could not read:', image_file, ':', e, '- c\\'est ok, on passe.')\n",
    "    \n",
    "  num_images = image_index\n",
    "  dataset = dataset[0:num_images, :, :]\n",
    "  if num_images < min_num_images:\n",
    "    raise Exception('Many fewer images than expected: %d < %d' %\n",
    "                    (num_images, min_num_images))\n",
    "    \n",
    "  print('Full dataset tensor:', dataset.shape)\n",
    "  print('Mean:', np.mean(dataset))\n",
    "  print('Standard deviation:', np.std(dataset))\n",
    "  return dataset\n",
    "        \n",
    "def maybe_pickle(data_folders, min_num_images_per_class, force=False):\n",
    "  dataset_names = []\n",
    "  for folder in data_folders:\n",
    "    set_filename = folder + '.pickle'\n",
    "    dataset_names.append(set_filename)\n",
    "    if os.path.exists(set_filename) and not force:\n",
    "      # You may override by setting force=True.\n",
    "      print('%s deja present - on passe le pickling.' % set_filename)\n",
    "    else:\n",
    "      print('Pickling %s.' % set_filename)\n",
    "      dataset = load_letter(folder, min_num_images_per_class)\n",
    "      try:\n",
    "        with open(set_filename, 'wb') as f:\n",
    "          pickle.dump(dataset, f, pickle.HIGHEST_PROTOCOL)\n",
    "      except Exception as e:\n",
    "        print('Unable to save data to', set_filename, ':', e)\n",
    "  \n",
    "  return dataset_names\n",
    "\n",
    "train_datasets = maybe_pickle(train_folders, 45000)\n",
    "test_datasets = maybe_pickle(test_folders, 1800)"
   ]
  },
  {
   "cell_type": "markdown",
   "metadata": {},
   "source": [
    "## 2. Tâche 2 : vérifier si les données sont bien manipulables"
   ]
  },
  {
   "cell_type": "markdown",
   "metadata": {},
   "source": [
    "Vérifions que les données sont toujours bonnes. Affichage d'un échantillon des étiquettes et des images du tableau numpy. \n",
    "\n",
    "Pour ce faire on va utiliser matplotlib.pyplot."
   ]
  },
  {
   "cell_type": "code",
   "execution_count": 8,
   "metadata": {
    "collapsed": true
   },
   "outputs": [],
   "source": [
    "def disp_8_img(imgs, titles):\n",
    "  \"\"\"Display subplot with 8 images or less\"\"\"\n",
    "  for i, img in enumerate(imgs):\n",
    "    plt.subplot(2, 4, i+1)\n",
    "    plt.title(titles[i])\n",
    "    plt.axis('off')\n",
    "    plt.imshow(img)\n",
    "\n",
    "def disp_sample_pickles(data_folders):\n",
    "  folder = random.sample(data_folders, 1)\n",
    "  pickle_filename = ''.join(folder) + '.pickle'\n",
    "  try:\n",
    "    with open(pickle_filename, 'rb') as f:\n",
    "      dataset = pickle.load(f)\n",
    "  except Exception as e:\n",
    "    print('Unable to read data from', pickle_filename, ':', e)\n",
    "    return\n",
    "  # display\n",
    "  plt.suptitle(''.join(folder)[-1])\n",
    "\n",
    "  for i, img in enumerate(random.sample(list(dataset), 8)):\n",
    "    plt.subplot(2, 4, i+1)\n",
    "    plt.axis('off')\n",
    "    plt.imshow(img)"
   ]
  },
  {
   "cell_type": "code",
   "execution_count": 9,
   "metadata": {},
   "outputs": [
    {
     "data": {
      "image/png": "[encoded data removed]",
      "text/plain": [
       "<matplotlib.figure.Figure at 0x1160028d0>"
      ]
     },
     "metadata": {},
     "output_type": "display_data"
    }
   ],
   "source": [
    "# on affiche quelques exemples des données d'entrainement\n",
    "disp_sample_pickles(train_folders)"
   ]
  },
  {
   "cell_type": "code",
   "execution_count": 10,
   "metadata": {},
   "outputs": [
    {
     "data": {
      "image/png": "[encoded data removed]",
      "text/plain": [
       "<matplotlib.figure.Figure at 0x10f322ac8>"
      ]
     },
     "metadata": {},
     "output_type": "display_data"
    }
   ],
   "source": [
    "# on affiche quelques exemples des données test\n",
    "disp_sample_pickles(test_folders)"
   ]
  },
  {
   "cell_type": "markdown",
   "metadata": {},
   "source": [
    "## Tâche 3 : Une autre vérification des données, vérifions que c'est équilibré entre les classes.\n"
   ]
  },
  {
   "cell_type": "markdown",
   "metadata": {},
   "source": [
    "Les données sont équilibrées d'une classe à l'autre si les classes ont à peu près le même nombre d'éléments. Vérifions le nombre d'images par classe"
   ]
  },
  {
   "cell_type": "code",
   "execution_count": 11,
   "metadata": {},
   "outputs": [
    {
     "name": "stdout",
     "output_type": "stream",
     "text": [
      "Nombre d'images dans  notMNIST_large/A  :  52909\n",
      "Nombre d'images dans  notMNIST_large/B  :  52911\n",
      "Nombre d'images dans  notMNIST_large/C  :  52912\n",
      "Nombre d'images dans  notMNIST_large/D  :  52911\n",
      "Nombre d'images dans  notMNIST_large/E  :  52912\n",
      "Nombre d'images dans  notMNIST_large/F  :  52912\n",
      "Nombre d'images dans  notMNIST_large/G  :  52912\n",
      "Nombre d'images dans  notMNIST_large/H  :  52912\n",
      "Nombre d'images dans  notMNIST_large/I  :  52912\n",
      "Nombre d'images dans  notMNIST_large/J  :  52911\n",
      "Nombre d'images dans  notMNIST_small/A  :  1872\n",
      "Nombre d'images dans  notMNIST_small/B  :  1873\n",
      "Nombre d'images dans  notMNIST_small/C  :  1873\n",
      "Nombre d'images dans  notMNIST_small/D  :  1873\n",
      "Nombre d'images dans  notMNIST_small/E  :  1873\n",
      "Nombre d'images dans  notMNIST_small/F  :  1872\n",
      "Nombre d'images dans  notMNIST_small/G  :  1872\n",
      "Nombre d'images dans  notMNIST_small/H  :  1872\n",
      "Nombre d'images dans  notMNIST_small/I  :  1872\n",
      "Nombre d'images dans  notMNIST_small/J  :  1872\n"
     ]
    }
   ],
   "source": [
    "def disp_number_images(data_folders):\n",
    "  for folder in data_folders:\n",
    "    pickle_filename = ''.join(folder) + '.pickle'\n",
    "    try:\n",
    "      with open(pickle_filename, 'rb') as f:\n",
    "        dataset = pickle.load(f)\n",
    "    except Exception as e:\n",
    "      print('Impossible de lire les donnees de', pickle_filename, ':', e)\n",
    "      return\n",
    "    print('Nombre d\\'images dans ', folder, ' : ', len(dataset))\n",
    "    \n",
    "disp_number_images(train_folders)\n",
    "disp_number_images(test_folders)\n"
   ]
  },
  {
   "cell_type": "markdown",
   "metadata": {},
   "source": [
    "Il n'y a que des écarts minimes, de sorte que les classes sont bien équilibrées."
   ]
  },
  {
   "cell_type": "markdown",
   "metadata": {},
   "source": [
    "## Tâche 3-bis: données de validation"
   ]
  },
  {
   "cell_type": "markdown",
   "metadata": {},
   "source": [
    "Fusionner et élaguer les données d'entrainement selon les besoins. \n",
    "\n",
    "Selon la configuration de l'ordinateur utilisé, il se peut que l'on ne puisse tout charger en mémoire, et on doit alors  régler `train_size` selon les possibilités. \n",
    "\n",
    "Les étiquettes seront stockées dans un tableau distinct d'entiers de 0 à 9.\n",
    "\n",
    "Il nous faut créer également un ** jeu de données de validation** pour le réglage des hyperparamètres du modèle."
   ]
  },
  {
   "cell_type": "code",
   "execution_count": 12,
   "metadata": {},
   "outputs": [
    {
     "name": "stdout",
     "output_type": "stream",
     "text": [
      "Training: (200000, 28, 28) (200000,)\n",
      "Validation: (10000, 28, 28) (10000,)\n",
      "Testing: (10000, 28, 28) (10000,)\n"
     ]
    }
   ],
   "source": [
    "def make_arrays(nb_rows, img_size):\n",
    "  if nb_rows:\n",
    "    dataset = np.ndarray((nb_rows, img_size, img_size), dtype=np.float32)\n",
    "    labels = np.ndarray(nb_rows, dtype=np.int32)\n",
    "  else:\n",
    "    dataset, labels = None, None\n",
    "  return dataset, labels\n",
    "\n",
    "def merge_datasets(pickle_files, train_size, valid_size=0):\n",
    "  num_classes = len(pickle_files)\n",
    "  valid_dataset, valid_labels = make_arrays(valid_size, image_size)\n",
    "  train_dataset, train_labels = make_arrays(train_size, image_size)\n",
    "  vsize_per_class = valid_size // num_classes\n",
    "  tsize_per_class = train_size // num_classes\n",
    "    \n",
    "  start_v, start_t = 0, 0\n",
    "  end_v, end_t = vsize_per_class, tsize_per_class\n",
    "  end_l = vsize_per_class+tsize_per_class\n",
    "  for label, pickle_file in enumerate(pickle_files):       \n",
    "    try:\n",
    "      with open(pickle_file, 'rb') as f:\n",
    "        letter_set = pickle.load(f)\n",
    "        # let's shuffle the letters to have random validation and training set\n",
    "        np.random.shuffle(letter_set)\n",
    "        if valid_dataset is not None:\n",
    "          valid_letter = letter_set[:vsize_per_class, :, :]\n",
    "          valid_dataset[start_v:end_v, :, :] = valid_letter\n",
    "          valid_labels[start_v:end_v] = label\n",
    "          start_v += vsize_per_class\n",
    "          end_v += vsize_per_class\n",
    "                    \n",
    "        train_letter = letter_set[vsize_per_class:end_l, :, :]\n",
    "        train_dataset[start_t:end_t, :, :] = train_letter\n",
    "        train_labels[start_t:end_t] = label\n",
    "        start_t += tsize_per_class\n",
    "        end_t += tsize_per_class\n",
    "    except Exception as e:\n",
    "      print('Unable to process data from', pickle_file, ':', e)\n",
    "      raise\n",
    "    \n",
    "  return valid_dataset, valid_labels, train_dataset, train_labels\n",
    "            \n",
    "            \n",
    "train_size = 200000\n",
    "valid_size = 10000\n",
    "test_size = 10000\n",
    "\n",
    "valid_dataset, valid_labels, train_dataset, train_labels = merge_datasets(\n",
    "  train_datasets, train_size, valid_size)\n",
    "_, _, test_dataset, test_labels = merge_datasets(test_datasets, test_size)\n",
    "\n",
    "print('Training:', train_dataset.shape, train_labels.shape)\n",
    "print('Validation:', valid_dataset.shape, valid_labels.shape)\n",
    "print('Testing:', test_dataset.shape, test_labels.shape)"
   ]
  },
  {
   "cell_type": "markdown",
   "metadata": {},
   "source": [
    "Ensuite, nous allons mélanger les données. \n",
    "\n",
    "Il est important que les étiquettes soient bien mélangées pour que les distributions d'entrainement et de tests puissent correspondre."
   ]
  },
  {
   "cell_type": "code",
   "execution_count": 13,
   "metadata": {
    "collapsed": true
   },
   "outputs": [],
   "source": [
    "def randomize(dataset, labels):\n",
    "  permutation = np.random.permutation(labels.shape[0])\n",
    "  shuffled_dataset = dataset[permutation,:,:]\n",
    "  shuffled_labels = labels[permutation]\n",
    "  return shuffled_dataset, shuffled_labels\n",
    "train_dataset, train_labels = randomize(train_dataset, train_labels)\n",
    "test_dataset, test_labels = randomize(test_dataset, test_labels)\n",
    "valid_dataset, valid_labels = randomize(valid_dataset, valid_labels)"
   ]
  },
  {
   "cell_type": "markdown",
   "metadata": {},
   "source": [
    "## Tâche 4 : On va contrôler que les données sont encore valables après mélange !"
   ]
  },
  {
   "cell_type": "markdown",
   "metadata": {},
   "source": [
    "Pour être sûr que les données sont encore bonnes après la fusion et la randomisation,\n",
    "on sélectionne un item et on l'affiche l'image avec le label associé\n",
    "\n",
    "Note: 0 = A, 1 = B, 2 = C, 3 = D, 4 = E, 5 = F, 6 = G, 7 = H, 8 = I, 9 = J.\n"
   ]
  },
  {
   "cell_type": "code",
   "execution_count": 14,
   "metadata": {
    "collapsed": true
   },
   "outputs": [],
   "source": [
    "\n",
    "# un petit dictionnaire\n",
    "pretty_labels = {0: 'A', 1: 'B', 2: 'C', 3: 'D', 4: 'E', 5: 'F', 6: 'G', 7: 'H', 8: 'I', 9: 'J'}\n",
    "\n",
    "def disp_sample_dataset(dataset, labels):\n",
    "  items = random.sample(range(len(labels)), 8)\n",
    "  for i, item in enumerate(items):\n",
    "    plt.subplot(2, 4, i+1)\n",
    "    plt.axis('off')\n",
    "    plt.title(pretty_labels[labels[item]])# le titre est la lettre convertie à partir du chiffre\n",
    "    plt.imshow(dataset[item])"
   ]
  },
  {
   "cell_type": "code",
   "execution_count": 15,
   "metadata": {},
   "outputs": [
    {
     "data": {
      "image/png": "[encoded data removed]",
      "text/plain": [
       "<matplotlib.figure.Figure at 0x1162c6400>"
      ]
     },
     "metadata": {},
     "output_type": "display_data"
    }
   ],
   "source": [
    "# examen du jeu de données d'entrainement\n",
    "disp_sample_dataset(train_dataset, train_labels)"
   ]
  },
  {
   "cell_type": "code",
   "execution_count": 16,
   "metadata": {},
   "outputs": [
    {
     "data": {
      "image/png": "[encoded data removed]",
      "text/plain": [
       "<matplotlib.figure.Figure at 0x115f91f98>"
      ]
     },
     "metadata": {},
     "output_type": "display_data"
    }
   ],
   "source": [
    "# examen du jeu de données de validité  (celui qui sert pour le réglage des hyperparamèetres)\n",
    "disp_sample_dataset(valid_dataset, valid_labels)"
   ]
  },
  {
   "cell_type": "code",
   "execution_count": 17,
   "metadata": {},
   "outputs": [
    {
     "data": {
      "image/png": "[encoded data removed]",
      "text/plain": [
       "<matplotlib.figure.Figure at 0x114bc3710>"
      ]
     },
     "metadata": {},
     "output_type": "display_data"
    }
   ],
   "source": [
    "# examen du jeu de données de test\n",
    "disp_sample_dataset(test_dataset, test_labels)"
   ]
  },
  {
   "cell_type": "markdown",
   "metadata": {},
   "source": [
    "Si tout est correct, on va sauvergarder ce jeu de donnnées pour utilisation future éventuelle."
   ]
  },
  {
   "cell_type": "code",
   "execution_count": 18,
   "metadata": {
    "collapsed": true
   },
   "outputs": [],
   "source": [
    "pickle_file = 'notMNIST.pickle'\n",
    "\n",
    "try:\n",
    "  f = open(pickle_file, 'wb')\n",
    "  save = {\n",
    "    'train_dataset': train_dataset,\n",
    "    'train_labels': train_labels,\n",
    "    'valid_dataset': valid_dataset,\n",
    "    'valid_labels': valid_labels,\n",
    "    'test_dataset': test_dataset,\n",
    "    'test_labels': test_labels,\n",
    "    }\n",
    "  pickle.dump(save, f, pickle.HIGHEST_PROTOCOL)\n",
    "  f.close()\n",
    "except Exception as e:\n",
    "  print('Impossible de sauvegarder ', pickle_file, ':', e)\n",
    "  raise\n"
   ]
  },
  {
   "cell_type": "code",
   "execution_count": 19,
   "metadata": {},
   "outputs": [
    {
     "name": "stdout",
     "output_type": "stream",
     "text": [
      "Compressed pickle size: 690800512\n"
     ]
    }
   ],
   "source": [
    "statinfo = os.stat(pickle_file)\n",
    "print('Compressed pickle size:', statinfo.st_size)"
   ]
  },
  {
   "cell_type": "markdown",
   "metadata": {},
   "source": [
    "## Tâche 5 : curation des données"
   ]
  },
  {
   "cell_type": "markdown",
   "metadata": {},
   "source": [
    "\n",
    "Par construction, cet ensemble de données pourrait contenir des échantillons qui se chevauchent, y compris les données d'entrainement qui sont également contenues dans l'ensemble de validation et de test ! Le chevauchement entre l' entrainement et le test peut fausser les résultats si vous vous attendez à utiliser votre modèle dans un environnement où il n'y a jamais de chevauchement, mais vous pouvez le faire si vous vous attendez à voir des échantillons de formation réapparaître lorsque vous l'utilisez. \n",
    "\n",
    "Mesurer le chevauchement entre la formation, la validation et les échantillons d'essai.\n",
    "+  Qu'en est-il des quasi-doublons entre les ensembles de données ? (images presque identiques)\n",
    "+ On va créer  un ensemble de validation et de tests aseptisés, et ce précision pourra être utile pour la suite"
   ]
  },
  {
   "cell_type": "code",
   "execution_count": 20,
   "metadata": {
    "collapsed": true
   },
   "outputs": [],
   "source": [
    "# fonction qui affiche le chevauchement\n",
    "def display_overlap(overlap, source_dataset, target_dataset):\n",
    "  item = random.choice(list(overlap.keys()))  # list(d.keys())\n",
    "  imgs = np.concatenate(([source_dataset[item]], target_dataset[overlap[item][0:7]]))\n",
    "  plt.suptitle(item)\n",
    "  for i, img in enumerate(imgs):\n",
    "    plt.subplot(2, 4, i+1)\n",
    "    plt.axis('off')\n",
    "    plt.imshow(img)"
   ]
  },
  {
   "cell_type": "code",
   "execution_count": 21,
   "metadata": {
    "collapsed": true
   },
   "outputs": [],
   "source": [
    "# fonction qui effectue une extraction\n",
    "def extract_overlap(dataset_1, dataset_2):\n",
    "  overlap = {} # dictionnaire\n",
    "  for i, img_1 in enumerate(dataset_1):\n",
    "    for j, img_2 in enumerate(dataset_2):     \n",
    "      if np.array_equal(img_1, img_2):\n",
    "        if not i in overlap.keys():\n",
    "          overlap[i] = []\n",
    "        overlap[i].append(j)\n",
    "  return overlap"
   ]
  },
  {
   "cell_type": "code",
   "execution_count": 22,
   "metadata": {
    "collapsed": true
   },
   "outputs": [],
   "source": [
    "# un petit test pour voir combien de temps cela prend"
   ]
  },
  {
   "cell_type": "code",
   "execution_count": null,
   "metadata": {},
   "outputs": [],
   "source": [
    "%time overlap_test_train = extract_overlap(test_dataset[:200], train_dataset)"
   ]
  },
  {
   "cell_type": "code",
   "execution_count": null,
   "metadata": {},
   "outputs": [],
   "source": [
    "print('Number of overlaps:', len(overlap_test_train.keys()))\n",
    "display_overlap(overlap_test_train, test_dataset[:200], train_dataset)"
   ]
  },
  {
   "cell_type": "markdown",
   "metadata": {},
   "source": [
    "La fonction `display_overlap` ci-dessus affiche l'un des doublons, le premier élément provient du premier ensemble de données et les suivants proviennent de l'ensemble de données utilisé pour la comparaison.\n",
    "\n",
    "Maintenant que les duplicatas exacts ont été trouvés, recherchons les duplicatas proches. Comment définir des images presque identiques ? C'est une question délicate. Une des premières idées a été d'utiliser la comparaison de matrices numpy tout près. Ceci est trop restrictif, car deux images peuvent varier d'un pixel, et rester très similaires même si la variation sur le pyxel est importante. Une meilleure solution implique une sorte de moyenne.\n",
    "\n",
    "Pour rester simple et toujours pertinent, on va utiliser une norme de Manhattan (somme des valeurs absolues) de la matrice des différences. Comme les images de l'ensemble de données ont toutes la même taille, on ne normalise normaliser la valeur normale. Noter qu'il s'agit d'une comparaison pixel par pixel, et donc il n'évoluera pas à l'échelle de l'ensemble des données, mais il aidera à comprendre les similitudes d'image."
   ]
  },
  {
   "cell_type": "markdown",
   "metadata": {},
   "source": [
    "### overlap near"
   ]
  },
  {
   "cell_type": "code",
   "execution_count": null,
   "metadata": {
    "collapsed": true
   },
   "outputs": [],
   "source": [
    "MAX_MANHATTAN_NORM = 10\n",
    "\n",
    "def extract_overlap_near(dataset_1, dataset_2):\n",
    "  overlap = {}\n",
    "  for i, img_1 in enumerate(dataset_1):\n",
    "    for j, img_2 in enumerate(dataset_2):\n",
    "      diff = img_1 - img_2\n",
    "      m_norm = np.sum(np.abs(diff))\n",
    "      if m_norm < MAX_MANHATTAN_NORM:\n",
    "        if not i in overlap.keys():\n",
    "          overlap[i] = []\n",
    "        overlap[i].append(j)\n",
    "  return overlap"
   ]
  },
  {
   "cell_type": "code",
   "execution_count": null,
   "metadata": {},
   "outputs": [],
   "source": [
    "%time overlap_test_train_near = extract_overlap_near(test_dataset[:200], train_dataset)"
   ]
  },
  {
   "cell_type": "code",
   "execution_count": null,
   "metadata": {},
   "outputs": [],
   "source": [
    "print('Number of near overlaps:', len(overlap_test_train_near.keys()))\n",
    "display_overlap(overlap_test_train_near, test_dataset[:200], train_dataset)"
   ]
  },
  {
   "cell_type": "markdown",
   "metadata": {},
   "source": [
    "Les techniques ci-dessus fonctionnent bien, mais les performances sont médiocres et les méthodes sont peu extensibles à l'ensemble des données. \n",
    "\n",
    "Essayons d'améliorer les performances. Prenons quelques temps de référence sur un petit ensemble de données.\n",
    "\n",
    "Voici quelques idées :\n",
    "\n",
    "    + arrêter à un une première occurence\n",
    "    + utilisation de fonction nympique where dans l'ensemble de données diff.\n",
    "    + comparaison par hachage"
   ]
  },
  {
   "cell_type": "markdown",
   "metadata": {},
   "source": [
    "### overlap stop"
   ]
  },
  {
   "cell_type": "code",
   "execution_count": null,
   "metadata": {
    "collapsed": true
   },
   "outputs": [],
   "source": [
    "def extract_overlap_stop(dataset_1, dataset_2):\n",
    "  overlap = {}\n",
    "  for i, img_1 in enumerate(dataset_1):\n",
    "    for j, img_2 in enumerate(dataset_2):     \n",
    "      if np.array_equal(img_1, img_2):\n",
    "        overlap[i] = [j]\n",
    "        break\n",
    "  return overlap"
   ]
  },
  {
   "cell_type": "code",
   "execution_count": null,
   "metadata": {},
   "outputs": [],
   "source": [
    "%time overlap_test_train = extract_overlap_stop(test_dataset[:200], train_dataset)"
   ]
  },
  {
   "cell_type": "code",
   "execution_count": null,
   "metadata": {},
   "outputs": [],
   "source": [
    "print('Number of overlaps:', len(overlap_test_train.keys()))\n",
    "display_overlap(overlap_test_train, test_dataset[:200], train_dataset)"
   ]
  },
  {
   "cell_type": "markdown",
   "metadata": {},
   "source": [
    "### overlap where"
   ]
  },
  {
   "cell_type": "code",
   "execution_count": null,
   "metadata": {
    "collapsed": true
   },
   "outputs": [],
   "source": [
    "MAX_MANHATTAN_NORM = 10\n",
    "\n",
    "def extract_overlap_where(dataset_1, dataset_2):\n",
    "  overlap = {}\n",
    "  for i, img_1 in enumerate(dataset_1):\n",
    "    diff = dataset_2 - img_1\n",
    "    norm = np.sum(np.abs(diff), axis=1)\n",
    "    duplicates = np.where(norm < MAX_MANHATTAN_NORM)\n",
    "    if len(duplicates[0]):\n",
    "      overlap[i] = duplicates[0]\n",
    "  return overlap"
   ]
  },
  {
   "cell_type": "code",
   "execution_count": null,
   "metadata": {},
   "outputs": [],
   "source": [
    "test_flat = test_dataset.reshape(test_dataset.shape[0], 28 * 28)\n",
    "train_flat = train_dataset.reshape(train_dataset.shape[0], 28 * 28)\n",
    "%time overlap_test_train = extract_overlap_where(test_flat[:200], train_flat)"
   ]
  },
  {
   "cell_type": "code",
   "execution_count": null,
   "metadata": {},
   "outputs": [],
   "source": [
    "print('Number of overlaps:', len(overlap_test_train.keys()))\n",
    "display_overlap(overlap_test_train, test_dataset[:200], train_dataset)"
   ]
  },
  {
   "cell_type": "markdown",
   "metadata": {},
   "source": [
    "### overlap hash"
   ]
  },
  {
   "cell_type": "markdown",
   "metadata": {},
   "source": [
    "The built-in numpy function provides some improvement either, but this algorithm is still not scalable to the dataset to its full extend.\n",
    "\n",
    "To make it work at scale, the best option is to use a hash function. To find exact duplicates, the hash functions used for the cryptography will work just fine.\n"
   ]
  },
  {
   "cell_type": "code",
   "execution_count": null,
   "metadata": {
    "collapsed": true
   },
   "outputs": [],
   "source": [
    "def extract_overlap_hash(dataset_1, dataset_2):\n",
    "  dataset_hash_1 = [hashlib.sha256(img).hexdigest() for img in dataset_1]\n",
    "  dataset_hash_2 = [hashlib.sha256(img).hexdigest() for img in dataset_2]\n",
    "  overlap = {}\n",
    "  for i, hash1 in enumerate(dataset_hash_1):\n",
    "    for j, hash2 in enumerate(dataset_hash_2):\n",
    "      if hash1 == hash2:\n",
    "        if not i in overlap.keys():\n",
    "          overlap[i] = []\n",
    "        overlap[i].append(j) ## use np.where\n",
    "  return overlap"
   ]
  },
  {
   "cell_type": "code",
   "execution_count": null,
   "metadata": {},
   "outputs": [],
   "source": [
    "%time overlap_test_train = extract_overlap_hash(test_dataset[:200], train_dataset)"
   ]
  },
  {
   "cell_type": "code",
   "execution_count": null,
   "metadata": {},
   "outputs": [],
   "source": [
    "print('Number of overlaps:', len(overlap_test_train.keys()))\n",
    "display_overlap(overlap_test_train, test_dataset[:200], train_dataset)"
   ]
  },
  {
   "cell_type": "markdown",
   "metadata": {},
   "source": [
    "\n",
    "D'autres valeurs se chevauchant ont pu être trouvées, ceci est dû aux collisions de hachage. Plusieurs images peuvent avoir le même hash mais sont en réalité différentes. Ceci n'est pas remarqué ici, et même si cela se produit, c'est acceptable. Tous les doublons seront supprimés à coup sûr.\n",
    "\n",
    "Nous pouvons rendre le traitement a mais plus rapide en utilisant la fonction numpy `where`  intégrée.\n"
   ]
  },
  {
   "cell_type": "code",
   "execution_count": null,
   "metadata": {
    "collapsed": true
   },
   "outputs": [],
   "source": [
    "def extract_overlap_hash_where(dataset_1, dataset_2):\n",
    "  dataset_hash_1 = np.array([hashlib.sha256(img).hexdigest() for img in dataset_1])\n",
    "  dataset_hash_2 = np.array([hashlib.sha256(img).hexdigest() for img in dataset_2])\n",
    "  overlap = {}\n",
    "  for i, hash1 in enumerate(dataset_hash_1):\n",
    "    duplicates = np.where(dataset_hash_2 == hash1)\n",
    "    if len(duplicates[0]):\n",
    "      overlap[i] = duplicates[0]\n",
    "  return overlap"
   ]
  },
  {
   "cell_type": "code",
   "execution_count": null,
   "metadata": {},
   "outputs": [],
   "source": [
    "%time overlap_test_train = extract_overlap_hash_where(test_dataset[:200], train_dataset)"
   ]
  },
  {
   "cell_type": "code",
   "execution_count": null,
   "metadata": {},
   "outputs": [],
   "source": [
    "print('Number of overlaps:', len(overlap_test_train.keys()))\n",
    "display_overlap(overlap_test_train, test_dataset[:200], train_dataset)"
   ]
  },
  {
   "cell_type": "markdown",
   "metadata": {},
   "source": [
    "D'un certain point de vue (auteur du notebookl), les doublons proches devraient également être supprimés dans les ensembles de données aseptisés. L'hypothèse serait que les duplicatas \"proches\" sont très proches (parfois il n'y a qu'une seule frontière pixel de différence), et pénalisent l'entraînement de la même manière que les vrais duplicatas.\n",
    "\n",
    "Cela dit, trouver des doublons proches avec une fonction de hachage n'est pas évident. Il existe des techniques pour cela, comme le \"hachage sensible localement\", le \"hachage perceptuel\" ou le \"hachage par différence\". Il y a même une bibliothèque Python disponible. \n",
    "\n",
    "Les données aseptisées générées ci-dessous sont basées sur des duplicatas réels trouvés avec une fonction de hachage cryptographique.\n",
    "Pour nettoyer l'ensemble de données, on change la fonction ci-dessus en renvoyant directement l'ensemble de données propres."
   ]
  },
  {
   "cell_type": "code",
   "execution_count": null,
   "metadata": {
    "collapsed": true
   },
   "outputs": [],
   "source": [
    "# fonction nettoyage\n",
    "def sanetize(dataset_1, dataset_2, labels_1):\n",
    "  dataset_hash_1 = np.array([hashlib.sha256(img).hexdigest() for img in dataset_1])\n",
    "  dataset_hash_2 = np.array([hashlib.sha256(img).hexdigest() for img in dataset_2])\n",
    "  overlap = [] # list of indexes\n",
    "  for i, hash1 in enumerate(dataset_hash_1):\n",
    "    duplicates = np.where(dataset_hash_2 == hash1)\n",
    "    if len(duplicates[0]):\n",
    "      overlap.append(i) \n",
    "  return np.delete(dataset_1, overlap, 0), np.delete(labels_1, overlap, None)"
   ]
  },
  {
   "cell_type": "code",
   "execution_count": null,
   "metadata": {},
   "outputs": [],
   "source": [
    "%time test_dataset_sanit, test_labels_sanit = sanetize(test_dataset[:200], train_dataset, test_labels[:200])\n",
    "print('Overlapping images removed: ', len(test_dataset[:200]) - len(test_dataset_sanit))"
   ]
  },
  {
   "cell_type": "markdown",
   "metadata": {},
   "source": [
    "Même chose avec le dataset entier"
   ]
  },
  {
   "cell_type": "code",
   "execution_count": null,
   "metadata": {},
   "outputs": [],
   "source": [
    "%time test_dataset_sanit, test_labels_sanit = sanetize(test_dataset, train_dataset, test_labels)\n",
    "print('Overlapping images removed: ', len(test_dataset) - len(test_dataset_sanit))"
   ]
  },
  {
   "cell_type": "code",
   "execution_count": null,
   "metadata": {},
   "outputs": [],
   "source": [
    "%time valid_dataset_sanit, valid_labels_sanit = sanetize(valid_dataset, train_dataset, valid_labels)\n",
    "print('Overlapping images removed: ', len(valid_dataset) - len(valid_dataset_sanit))"
   ]
  },
  {
   "cell_type": "markdown",
   "metadata": {},
   "source": [
    "#### on fait maintenant la sauvegarde dans un dataset local"
   ]
  },
  {
   "cell_type": "code",
   "execution_count": null,
   "metadata": {
    "collapsed": true
   },
   "outputs": [],
   "source": [
    "# création des fichiers\n",
    "pickle_file_sanit = 'notMNIST_sanit.pickle'\n",
    "\n",
    "try:\n",
    "  f = open(pickle_file_sanit, 'wb')\n",
    "  save = {\n",
    "    'train_dataset': train_dataset,\n",
    "    'train_labels': train_labels,\n",
    "    'valid_dataset': valid_dataset_sanit,\n",
    "    'valid_labels': valid_labels_sanit,\n",
    "    'test_dataset': test_dataset_sanit,\n",
    "    'test_labels': test_labels_sanit,\n",
    "    }\n",
    "  pickle.dump(save, f, pickle.HIGHEST_PROTOCOL)\n",
    "  f.close()\n",
    "except Exception as e:\n",
    "  print('Unable to save data to', pickle_file, ':', e)\n",
    "  raise"
   ]
  },
  {
   "cell_type": "code",
   "execution_count": null,
   "metadata": {},
   "outputs": [],
   "source": [
    "# quelques stats de vérification\n",
    "statinfo = os.stat(pickle_file_sanit)\n",
    "print('Compressed pickle size:', statinfo.st_size)"
   ]
  },
  {
   "cell_type": "markdown",
   "metadata": {},
   "source": [
    "** Ca y est on a des données !!! ***\n",
    "*** Noter  que c'est un travail important. ***"
   ]
  },
  {
   "cell_type": "markdown",
   "metadata": {},
   "source": [
    "## Tâche 6 : faire tourner un modèle sur ces données"
   ]
  },
  {
   "cell_type": "markdown",
   "metadata": {},
   "source": [
    "Voyons ce qui se passe avec un classificateur standard  sur ces données. Il est toujours bon de vérifier qu'il y a quelque chose à apprendre, et que c'est un problème qui n'est pas si trivial qu'une solution immédiate le résout.\n",
    "\n",
    "Former un modèle simple sur ces données en utilisant 50, 100, 1000 et 5000 échantillons d'apprentissage. \n",
    "\n"
   ]
  },
  {
   "cell_type": "markdown",
   "metadata": {},
   "source": [
    "### On va utiliser le modèle LogisticRegression de sklearn.linear_model."
   ]
  },
  {
   "cell_type": "code",
   "execution_count": null,
   "metadata": {
    "collapsed": true
   },
   "outputs": [],
   "source": [
    "regr = LogisticRegression()\n",
    "X_test = test_dataset.reshape(test_dataset.shape[0], 28 * 28)\n",
    "y_test = test_labels\n"
   ]
  },
  {
   "cell_type": "markdown",
   "metadata": {},
   "source": [
    "#### première expérience (50)"
   ]
  },
  {
   "cell_type": "code",
   "execution_count": null,
   "metadata": {},
   "outputs": [],
   "source": [
    "sample_size = 50\n",
    "X_train = train_dataset[:sample_size].reshape(sample_size, 784)\n",
    "y_train = train_labels[:sample_size]\n",
    "%time regr.fit(X_train, y_train)\n",
    "regr.score(X_test, y_test)"
   ]
  },
  {
   "cell_type": "code",
   "execution_count": null,
   "metadata": {},
   "outputs": [],
   "source": [
    "pred_labels = regr.predict(X_test)\n",
    "disp_sample_dataset(test_dataset, pred_labels) # "
   ]
  },
  {
   "cell_type": "markdown",
   "metadata": {},
   "source": [
    "#### deuxième expérience (100)"
   ]
  },
  {
   "cell_type": "code",
   "execution_count": null,
   "metadata": {},
   "outputs": [],
   "source": [
    "sample_size = 100\n",
    "X_train = train_dataset[:sample_size].reshape(sample_size, 784)\n",
    "y_train = train_labels[:sample_size]\n",
    "%time regr.fit(X_train, y_train)\n",
    "regr.score(X_test, y_test)"
   ]
  },
  {
   "cell_type": "code",
   "execution_count": null,
   "metadata": {},
   "outputs": [],
   "source": [
    "sample_size = 1000\n",
    "X_train = train_dataset[:sample_size].reshape(sample_size, 784)\n",
    "y_train = train_labels[:sample_size]\n",
    "%time regr.fit(X_train, y_train)\n",
    "regr.score(X_test, y_test)"
   ]
  },
  {
   "cell_type": "code",
   "execution_count": null,
   "metadata": {},
   "outputs": [],
   "source": [
    "X_valid = valid_dataset[:sample_size].reshape(sample_size, 784)\n",
    "y_valid = valid_labels[:sample_size]\n",
    "regr.score(X_valid, y_valid)"
   ]
  },
  {
   "cell_type": "code",
   "execution_count": null,
   "metadata": {},
   "outputs": [],
   "source": [
    "pred_labels = regr.predict(X_valid)\n",
    "disp_sample_dataset(valid_dataset, pred_labels)"
   ]
  },
  {
   "cell_type": "markdown",
   "metadata": {},
   "source": [
    "#### troisième expérience (5000)"
   ]
  },
  {
   "cell_type": "code",
   "execution_count": null,
   "metadata": {},
   "outputs": [],
   "source": [
    "sample_size = 5000\n",
    "X_train = train_dataset[:sample_size].reshape(sample_size, 784)\n",
    "y_train = train_labels[:sample_size]\n",
    "%time regr.fit(X_train, y_train)\n",
    "regr.score(X_test, y_test)"
   ]
  },
  {
   "cell_type": "markdown",
   "metadata": {},
   "source": [
    "Pour entrainer le modèle sur toutes les données, nous devons utiliser un autre solveur. SAG est le plus rapide."
   ]
  },
  {
   "cell_type": "code",
   "execution_count": null,
   "metadata": {},
   "outputs": [],
   "source": [
    "regr2 = LogisticRegression(solver='sag')\n",
    "sample_size = len(train_dataset)\n",
    "X_train = train_dataset[:sample_size].reshape(sample_size, 784)\n",
    "y_train = train_labels[:sample_size]\n",
    "%time regr2.fit(X_train, y_train)\n",
    "regr2.score(X_test, y_test)"
   ]
  },
  {
   "cell_type": "code",
   "execution_count": null,
   "metadata": {},
   "outputs": [],
   "source": [
    "pred_labels = regr.predict(X_test)\n",
    "disp_sample_dataset(test_dataset, pred_labels)"
   ]
  },
  {
   "cell_type": "markdown",
   "metadata": {},
   "source": [
    "La précision peut être faible par rapport à un réseau neuronal profond, mais en tant que première technique de reconnaissance de caractères, c'est déjà pas mal !"
   ]
  },
  {
   "cell_type": "code",
   "execution_count": null,
   "metadata": {
    "collapsed": true
   },
   "outputs": [],
   "source": []
  }
 ],
 "metadata": {
  "kernelspec": {
   "display_name": "Python 3",
   "language": "python",
   "name": "python3"
  },
  "language_info": {
   "codemirror_mode": {
    "name": "ipython",
    "version": 3
   },
   "file_extension": ".py",
   "mimetype": "text/x-python",
   "name": "python",
   "nbconvert_exporter": "python",
   "pygments_lexer": "ipython3",
   "version": "3.5.4"
  }
 },
 "nbformat": 4,
 "nbformat_minor": 2
}
